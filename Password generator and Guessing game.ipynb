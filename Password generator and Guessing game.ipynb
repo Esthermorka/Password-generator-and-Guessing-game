{
 "cells": [
  {
   "cell_type": "markdown",
   "id": "85ae78b3",
   "metadata": {},
   "source": [
    "## Guess the Game"
   ]
  },
  {
   "cell_type": "code",
   "execution_count": 1,
   "id": "362764c6",
   "metadata": {},
   "outputs": [
    {
     "name": "stdout",
     "output_type": "stream",
     "text": [
      "You have 5 trials \n",
      "Guess a number between 10 - 20: 13\n",
      "your guess is far away\n",
      "Guess a number between 10 - 20: 22\n",
      "Try again\n",
      "Guess a number between 10 - 20: 15\n",
      "Try again\n",
      "Guess a number between 10 - 20: 17\n",
      "you are correct\n"
     ]
    }
   ],
   "source": [
    "import random as rand\n",
    "number = rand.randint(10, 20)\n",
    "\n",
    "print('You have 5 trials ')\n",
    "\n",
    "try:\n",
    "    for i in range(5):\n",
    "      user_guess = int(input('Guess a number between 10 - 20: '))\n",
    "      if (user_guess == number +4) or (user_guess == number -4):\n",
    "        print('your guess is far away')\n",
    "      elif(user_guess == number -3) or (user_guess == number +3):\n",
    "        print ('you are close')\n",
    "      elif (user_guess == number +1):\n",
    "        print ('Almost there')\n",
    "      elif (user_guess == number):\n",
    "        print('you are correct')\n",
    "        break\n",
    "      else:\n",
    "        print('Try again')\n",
    "except:\n",
    "    print('You did not enter a number')\n",
    " \n"
   ]
  },
  {
   "cell_type": "markdown",
   "id": "3ac956f2",
   "metadata": {},
   "source": [
    "## Generate random password"
   ]
  },
  {
   "cell_type": "code",
   "execution_count": null,
   "id": "68d277b6",
   "metadata": {},
   "outputs": [],
   "source": [
    "import random\n",
    "password_char= \"werrfvfjhfsfferhfjdfhd'fjvh,.;'nhfkr256789143%/$&*!'\"\n",
    "password = ''\n",
    "password_length = int(input('enter a password length: '))\n",
    "i = 1\n",
    "\n",
    "while (i <= password_length):\n",
    "    password += random.choice(password_char)\n",
    "    i += 1\n",
    "    \n",
    "with open('password.txt', 'w') as new_file:\n",
    "    new_file.write(password)"
   ]
  },
  {
   "cell_type": "code",
   "execution_count": 2,
   "id": "6c61541f",
   "metadata": {},
   "outputs": [
    {
     "name": "stdout",
     "output_type": "stream",
     "text": [
      "enter a password length: 7\n"
     ]
    }
   ],
   "source": [
    "import random\n",
    "password_char= \"werrfvfjhfsfferhfjdfhd'fjvh,.;'nhfkr256789143%/$&*!'\"\n",
    "password = ''\n",
    "password_length = int(input('enter a password length: '))\n",
    "i = 1\n",
    "\n",
    "while (i <= password_length):\n",
    "    password += random.choice(password_char)\n",
    "    i += 1\n",
    "    \n",
    "with open('password.txt', 'w') as new_file:\n",
    "    new_file.write(password)"
   ]
  },
  {
   "cell_type": "code",
   "execution_count": null,
   "id": "221d42d0",
   "metadata": {},
   "outputs": [],
   "source": []
  }
 ],
 "metadata": {
  "kernelspec": {
   "display_name": "Python 3 (ipykernel)",
   "language": "python",
   "name": "python3"
  },
  "language_info": {
   "codemirror_mode": {
    "name": "ipython",
    "version": 3
   },
   "file_extension": ".py",
   "mimetype": "text/x-python",
   "name": "python",
   "nbconvert_exporter": "python",
   "pygments_lexer": "ipython3",
   "version": "3.9.12"
  }
 },
 "nbformat": 4,
 "nbformat_minor": 5
}
